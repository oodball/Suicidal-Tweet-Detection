{
 "cells": [
  {
   "cell_type": "markdown",
   "metadata": {},
   "source": [
    "# COGS 118B - Project Proposal"
   ]
  },
  {
   "cell_type": "markdown",
   "metadata": {},
   "source": [
    "# Project Description\n",
    "\n",
    "You will design and execute a machine learning project. There are a few constraints on the nature of the allowed project. \n",
    "- The problem addressed will not be a \"toy problem\" or \"common training students problem\" like mtcars, iris, palmer penguins etc.\n",
    "- The dataset will have >1k observations and >5 variables. I'd prefer more like >10k observations and >10 variables. A general rule is that if you have >100x more observations than variables, your solution will likely generalize a lot better. The goal of training an unsupervised machine learning model is to learn the underlying pattern in a dataset in order to generalize well to unseen data, so choosing a large dataset is very important.\n",
    "\n",
    "- The project must include some elements of unsupervised learning, but you are welcome to include some supervised or other learning approaches as well.\n",
    "- The project will include a model selection and/or feature selection component where you will be looking for the best setup to maximize the performance of your ML system.\n",
    "- You will evaluate the performance of your ML system using more than one appropriate metric\n",
    "- You will be writing a report describing and discussing these accomplishments\n",
    "\n",
    "\n",
    "Feel free to delete this description section when you hand in your proposal."
   ]
  },
  {
   "cell_type": "markdown",
   "metadata": {},
   "source": [
    "# Names\n",
    "\n",
    "Hopefully your team is at least this good. Obviously you should replace these with your names.\n",
    "\n",
    "- Audrey Liang\n",
    "- Geena Limfat\n",
    "- Nate Mead\n",
    "- Neha Sharma\n",
    "- Daphne Wu"
   ]
  },
  {
   "cell_type": "markdown",
   "metadata": {},
   "source": [
    "# Abstract \n",
    "Our goal is to identify counties with higher suicide rates by analyzing Reddit data from that county’s subreddit (ex. San Diego would be taken from the subreddit r/SanDiego) , focusing on negative sentiments. This involves analyzing sentiment proportions and other variables like the proportion of negative posts, which will be our data points. Using linear regression modeling, we will try and predict whether a county will have higher suicide rates based on the sentiment analysis, and put them through k-means clustering to categorize these counties as different risks (ex. High Risk, Low Risk, Medium Risk, etc.) Success is measured by the precision of these clusters in reflecting known suicide rates. We will be first web scraping, then performing a sentiment analysis before clustering, evaluation and refining our model. In doing so, we hope to develop effective strategies for addressing suicide risks in different counties.  \n"
   ]
  },
  {
   "cell_type": "markdown",
   "metadata": {},
   "source": [
    "# Background\n",
    "\n",
    "As technology and social media becomes more integrated into our society, it is becoming an increasingly viable tool for tracking social trends on larger scales than previously available. One of the most heartbreaking and devastating social trends in any society is suicide prevelance. Understanding correlations between real-world suicide rates and online discussions of mental health issues could give invaluable insights into predicting and surveilling related trends and potential risk factors. There has been a great deal of research monitoring suicide rates in the United States and abroad. Other bodies of research have also been dedicated to tracking social media as a measurement tool for the prevalence of mental health issues. One such study assessed linguistic trends shared by Twitter users diagnosed with depression, using a probabilistic model to determine if certain posting habits could indicate major depression in individuals <a name=\"DeChoudhury\"></a>[<sup>[1]</sup>](#DeChoudhury). Published in 2013, it indicated that 27 million Americans likely suffer from clinical depression, which was predicted to account for more than 30,000 suicides per year at the time. Since then, the population of the United States, prevalence of social media in everyday life, and suicide rates within the nation have all increased. According to the National Institute of Mental Health, surveys in 2020 tracked reported suicides within the United States as having reached past 45,000 <a name=\"nimhnote\"></a>[<sup>[3]</sup>](#NIMH). This is a 50% increase in a matter of 7 years. \n",
    "\n",
    "Additionally, there are studies that showed a positive correlation between cyberbullying, depression, suicidal ideation, suicidal plans, and suicide attempts, along with correlation between internet addiction and suicidality. Cyberbullying not only affects the victim, but also the perpertrator(s) as well which exposes at least 2 individuals to higher depression and behavioral issues. Cyberbullying also poses a greater threat as studies have shown that bullying through the internet increases the risk of suicidal ideation by a factor of 3.12 compared to traditional bullying’s factor of 2.16. <a name=\"ncbinote\"></a>[<sup>[4]</sup>](#ncbi). The more negative feedback that children receive onlines from strangers lowers their self-esteem and feelings of self-worth, and the more time spend on the internet increases the amount of exposure to these comments. Online victims are also more isolated than in person victims, making it more difficult for others to witness and potentially intervene. \n"
   ]
  },
  {
   "cell_type": "markdown",
   "metadata": {},
   "source": [
    "# Problem Statement\n",
    "\n",
    "The problem we are addressing involves using social media sentiment analysis. Particularly, we are focused on Reddit posts to uncover clusters of users exhibiting similar sentiments or engaging in common topics of discussion. Specifically, we seek to investigate the potential correlation between the frequency of \"suicide\" keywords within Reddit posts originating from specific regions and a select number of regions with high suicide rates (subreddits) in California—such as San Diego, Los Angeles, and San Francisco—and the corresponding suicide rates in those regions. By analyzing discussions on social media, particularly on forum platforms like Reddit, we can gather important insights into public sentiment and discussions in California around more sensitive topics like suicide. Understanding the correlation between online discussions and real-world outcomes, such as suicide rates, can better inform public health interventions and policies. \n",
    "\n",
    "Through techniques such as topic modeling or word embeddings, we aim to identify patterns within the data that indicate shared sentiments or thematic coherence among the platform users. This problem is quantifiable since it involves analyzing text data to categorize users into distinct clusters i.e. using K-means clustering. We are also analyzing and assessing the correlation between online discourse and real-world outcomes, which can be measured using statistical methods. Furthermore, the problem is measurable through metrics such as cluster coherence and correlation coefficients, which reveal observations of the relationships between variables. This problem is also replicable as it can be reproduced across different datasets and regions. This allows for the generalization of findings to other contexts or regions beyond California.\n",
    "\n",
    "\n",
    "\n"
   ]
  },
  {
   "cell_type": "markdown",
   "metadata": {},
   "source": [
    "# Data\n",
    "\n",
    "We do not have a specific dataset just yet, but we know that we will be using Reddit’s API tool to help us scrape the site. It allows us to look into different subreddits, which will be our different counties (ex. San Diego will be taken from r/SanDiego subreddit), and the posts in the subreddits will be the data points in our dataset. \n",
    "\n",
    "Some critical variables we will be observing are the positive or negative tones in the post, potential trigger words such as `suicide`, `kill`, `depression`, as well as the timeframe of which they’re posting. Each observation will be looking at these critical variables to determine what type of post we’re looking at. Additional variables we will be looking at could be the amount of posts in the subreddit, the contents of each post and their comments, what subreddit the posts come from, the suicide rate for that county, other user data, and the frequency of posting, as well as if there is a frequent user that affects the sentiment in the subreddit (ex. a repeat user that consistently comments negative sentiments in a subreddit). Since we don’t have a definitive dataset, our size of dataset is still unsure. After we get the data from web scraping, we will probably have to merge this with the proper suicide rates per county in California <a name=\"cdphnote\"></a>[<sup>[2]</sup>](#cdph), since that won’t be easily found through the Reddit API. \n"
   ]
  },
  {
   "cell_type": "markdown",
   "metadata": {},
   "source": [
    "# Proposed Solution\n",
    "Our proposed solution will analyze Reddit Posts from the sub-reddit region in California. It ill focus on negative semantics and comments related to suicide and use clustering algorithms, such as K-Means to group together negative semantics so we can analyze any distinct patterns amongst users. This will involve data collection, preprocessing, clustering, correlation analysis, and evaluation. We will use Python and relevant libraries such as pandas, scikit-learn, and gensim for data processing, clustering, and topic modeling. We will apply the K-means clustering algorithm to identify clusters of users based on their discussions on Reddit. Additionally, we may use Latent Dirichlet Allocation to identify any thematic coherence and detect the overall emotion within each cluster. We will also be using linear regression to explore suicide rates and factors. To test the solution, we will analyze datasets that contain sub-Reddit posts from specific regions in California and a corresponding csv with the regions suicide rates. Thus, we will assess the correlation between the online discourse and real-world outcomes through correlation coefficients. "
   ]
  },
  {
   "cell_type": "markdown",
   "metadata": {},
   "source": [
    "# Evaluation Metrics\n",
    "\n",
    "As our project utilizes multiple linear regression to explore the relationship between suicide rates and factors like aggregated sentiment scores and online engagement metrics, we will use the the Adjusted R-squared (Adjusted $R^2$ ) metric for evaluating model performance. The adjusted $R^2$ provides a more nuanced measure by adjusting for the number of predictors in the model, offering a more accurate reflection of the model's explanatory power. It is calculated using the formula: \n",
    "\n",
    "$$ R^2 = 1 - \\frac{((1 - R^2) * (n - 1))}{(n - k - 1)} $$ \n",
    "\n",
    "where $R^2$ is the coefficient of determination, n is the sample size, and k is the number of predictors. This metric increases only if a new predictor enhances the model's predictive capability, making it ideal for comparing the performance of the benchmark model and the solution model while taking into account the complexity introduced by multiple variables.\n",
    "\n",
    "Additionally, we will be using metrics such as ​​silhouette score and cluster coherence to determine the quality of the clusters. \n",
    "\n",
    "\n"
   ]
  },
  {
   "cell_type": "markdown",
   "metadata": {},
   "source": [
    "# Ethics & Privacy"
   ]
  },
  {
   "cell_type": "markdown",
   "metadata": {},
   "source": [
    "It’s critical when examining large, sensitive groups of users on any platform to avoid singling out any one person because of their online activity. Suicide as a topic is extremely sensitive and personal. Many users may post on subreddits related to suicidal ideations and depression as an outlet to express themselves, rather than indicate upcoming tendencies towards acting on self-harm. It’s important to keep the activities and identities of individuals private, and focus on overall trends within populations rather than a specific person’s expressions of personal issues and feelings. Reddit profiles outline and illustrate individual activity that can link to personal emails, and run concurrently with posts irrelevant to our study. We should delete personal information from the data we extract. It will be key to anonymize profiles, and delete  identifying information that could out specific users for the content they produce and discuss.\n",
    "\n",
    "We want to conduct sentimental analysis on keywords like “depression” and “suicide”, particularly for demographics in the most common age ranges of active Reddit users, covering cities in California with high population densities. Prominent cities/counties could include Los Angeles, San Diego, and the San Francisco Bay Area. We will want to track user groups that post or follow subreddits related to these counties and cities, as well as depression and suicide related subreddits, and then cross reference with suicide rate data related to these counties and a timeframe from 2018-2024."
   ]
  },
  {
   "cell_type": "markdown",
   "metadata": {},
   "source": [
    "# Team Expectations "
   ]
  },
  {
   "cell_type": "markdown",
   "metadata": {},
   "source": [
    "Put things here that cement how you will interact/communicate as a team, how you will handle conflict and difficulty, how you will handle making decisions and setting goals/schedule, how much work you expect from each other, how you will handle deadlines, etc...\n",
    "* *Team Expectation 1* : While the team meets up together, we can edit on the main branch, but to reduce inconsistencies, we will each make our own branch to edit when working individually then create pull requests to merge later on.\n",
    "\n",
    "* *Team Expectation 2*: Create a detailed log of what you did or update team members on what you're working on to create a cohesive document. \n",
    "\n",
    "* *Team Expecation 3*: If you aren't able to make a meeting, let the team know in advance, and make sure to either ask team members for what you missed or catch up using the Github. \n",
    "\n",
    "* *Team Expectation 4*: During conflict, all group members should know what's going on, and the ones not affiliated with the conflict should try and mediate, or we'll talk it out as a group. "
   ]
  },
  {
   "cell_type": "markdown",
   "metadata": {},
   "source": [
    "# Project Timeline Proposal"
   ]
  },
  {
   "cell_type": "markdown",
   "metadata": {},
   "source": [
    "Replace this with something meaningful that is appropriate for your needs. It doesn't have to be something that fits this format.  It doesn't have to be set in stone... \"no battle plan survives contact with the enemy\". But you need a battle plan nonetheless, and you need to keep it updated so you understand what you are trying to accomplish, who's responsible for what, and what the expected due dates are for each item.\n",
    "\n",
    "| Meeting Date  | Meeting Time| Completed Before Meeting  | Discuss at Meeting |\n",
    "|---|---|---|---|\n",
    "| 2/20  |  12:30 PM |  Brainstorm topics/questions (all)  | Determine best form of communication; Discuss and decide on final project topic; discuss hypothesis; work on  background | \n",
    "| 2/27  |  3:00 PM |  Find better datasets | Discuss dataset(s), try cleaning them up a bit | \n",
    "| 3/5  | 3:00 PM  | Start creating ML System  | Discuss ML System, how we can make it better   |\n",
    "| 3/5  | 3:00 PM  | Continue creating ML System | Discuss Analysis Plan   |\n",
    "| 3/12  | 3:00 PM  | Finalize ML System, Work on analysis | Complete Analysis |\n",
    "| 3/12  | 3:00 PM  | Edit final file| Discuss/edit full project |\n",
    "| 3/19  | Before 11:59 PM  | Last minute touch-ups and prepare to turn in  | Turn in Final Project  |"
   ]
  },
  {
   "cell_type": "markdown",
   "metadata": {},
   "source": [
    "# Footnotes\n",
    "<a name=\"DeChoudhurynote\"></a>1.[^](#DeChoudhury): De Choudhury, M., Counts, S., & Horvitz, E. (2013). Social media as a measurement tool of depression in populations. In Proceedings of the 5th Annual ACM Web Science Conference (pp. 47-56). [SIGCHI Conference Paper Format (munmund.net)](http://www.munmund.net/pubs/websci_13.pdf)\n",
    "\n",
    "<a name=\"cdphnote\"></a>2.[^](#cdph): Health, D. of P. (2024, January 17). Data on suicide and self harm. Data on Suicide and Self Harm. https://www.cdph.ca.gov/Programs/CCDPHP/DCDIC/SACB/Pages/Data-on-Suicide-and-Self-Harm.aspx \n",
    "\n",
    "<a name=\"nimhnote\"></a>3.[^](#NIMH): National Institute of Mental Health. (n.d.). Suicide Statistics. https://www.nimh.nih.gov/health/statistics/suicide\n",
    "\n",
    "<a name=\"ncbinote\"></a>4.[^](#ncbi): The role of online social networking on deliberate self-harm and suicidality in adolescents: A systematized review of literature https://www.ncbi.nlm.nih.gov/pmc/articles/PMC6278213/#:~:text=One%20study%20provides%20evidence%20that,distress%2C%20and%20increased%20suicidal%20ideation.\n",
    "\n"
   ]
  }
 ],
 "metadata": {
  "kernelspec": {
   "display_name": "Python 3 (ipykernel)",
   "language": "python",
   "name": "python3"
  },
  "language_info": {
   "codemirror_mode": {
    "name": "ipython",
    "version": 3
   },
   "file_extension": ".py",
   "mimetype": "text/x-python",
   "name": "python",
   "nbconvert_exporter": "python",
   "pygments_lexer": "ipython3",
   "version": "3.10.0"
  }
 },
 "nbformat": 4,
 "nbformat_minor": 2
}
